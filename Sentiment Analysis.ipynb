{
 "cells": [
  {
   "cell_type": "markdown",
   "metadata": {},
   "source": [
    "# Twitter Data Sentiment Analysis on US Presidential Election 2016"
   ]
  },
  {
   "cell_type": "markdown",
   "metadata": {},
   "source": [
    "Dataset Collection:\n",
    "       I decided to use the twitter data during the election period. According to Twitter policy only a week old twitter data will be accessible to normal users. So I surfed through the internet and downloaded twitter data set for this period from Hardvard Dataverse. I particularly decided to chose the dataset collected during the 3 presidential debates."
   ]
  },
  {
   "cell_type": "markdown",
   "metadata": {},
   "source": [
    "Data Extraction: \n",
    "    The 3 data files contained only the tweet ids. In order to get the complete information from the files, it should be hydarted using a tool called twarc. Using this tool the data set was extracted and collected. "
   ]
  },
  {
   "cell_type": "markdown",
   "metadata": {},
   "source": [
    "## Cleaning the dataset "
   ]
  },
  {
   "cell_type": "markdown",
   "metadata": {},
   "source": [
    "The procedure to clean the data set, is shown only for the first presidential debate dataset.The same procedure is used for the other two data files also."
   ]
  },
  {
   "cell_type": "code",
   "execution_count": 1,
   "metadata": {},
   "outputs": [
    {
     "data": {
      "text/plain": [
       "(236846, 33)"
      ]
     },
     "execution_count": 1,
     "metadata": {},
     "output_type": "execute_result"
    }
   ],
   "source": [
    "import pandas as pd\n",
    "first = pd.read_json('first-debate.json',lines=True)\n",
    "first.shape"
   ]
  },
  {
   "cell_type": "code",
   "execution_count": 2,
   "metadata": {},
   "outputs": [],
   "source": [
    "#Dropping out the unnecessary columns\n",
    "first = first.drop(['withheld_in_countries','truncated','scopes','retweeted_status','retweeted','quoted_status_permalink'],axis=1)\n",
    "first = first.drop(['quoted_status_id_str','quoted_status_id','quoted_status','possibly_sensitive','is_quote_status'],axis=1)\n",
    "first = first.drop(['in_reply_to_user_id_str','in_reply_to_user_id','in_reply_to_status_id_str','in_reply_to_status_id'],axis=1)\n",
    "first = first.drop(['id_str','id','favorited','extended_entities','entities','contributors'],axis=1)\n",
    "first =first.drop(['in_reply_to_screen_name','user'],axis=1)"
   ]
  },
  {
   "cell_type": "code",
   "execution_count": 3,
   "metadata": {},
   "outputs": [
    {
     "data": {
      "text/plain": [
       "(5123, 10)"
      ]
     },
     "execution_count": 3,
     "metadata": {},
     "output_type": "execute_result"
    }
   ],
   "source": [
    "#To have tuples only where the \"place\" column is not null\n",
    "first = first[first.place.notnull()]\n",
    "first.shape"
   ]
  },
  {
   "cell_type": "markdown",
   "metadata": {},
   "source": [
    "After droping the unnecessary columns and rows which do not have any values in \"place\" column we have a total of 5123 entries and 10 columns"
   ]
  },
  {
   "cell_type": "code",
   "execution_count": 4,
   "metadata": {},
   "outputs": [],
   "source": [
    "#Resetting the index values for the data set\n",
    "first = first.reset_index(drop=True)"
   ]
  },
  {
   "cell_type": "markdown",
   "metadata": {},
   "source": [
    "Now, I am going to extract the location and country from which the tweet has been tweeted. This will provide us with the geographical informatio about the user."
   ]
  },
  {
   "cell_type": "code",
   "execution_count": 5,
   "metadata": {},
   "outputs": [],
   "source": [
    "#adding \"location\" and \"country\" column to the dataset\n",
    "def location(row):\n",
    "        location=[]\n",
    "        text = row['place']['full_name']\n",
    "        location.append(text)\n",
    "        return \",\".join(location)\n",
    "\n",
    "first[\"location\"] = first.apply(location,axis=1)\n",
    "            \n",
    "def country(row):\n",
    "    country=[]\n",
    "    text=row['place']['country']\n",
    "    country.append(text)\n",
    "    return \",\".join(country)\n",
    "first['country'] = first.apply(country,axis=1)"
   ]
  },
  {
   "cell_type": "markdown",
   "metadata": {},
   "source": [
    "After this, I am going to segregate the tweets as per the presidential candidate it is meant for based on the hashtags or names used in it."
   ]
  },
  {
   "cell_type": "code",
   "execution_count": 6,
   "metadata": {},
   "outputs": [],
   "source": [
    "def get_candidate(row):\n",
    "    candidates = []\n",
    "    text = row[\"full_text\"].lower()\n",
    "    if \"clinton\" in text or \"hillary\" in text or \"hillaryclinton\" in text or \"imwithher\" in text or \"she\" in text:\n",
    "        candidates.append(\"clinton\")\n",
    "    if \"trump\" in text or \"donald\" in text or \"realdonaldtrump\" in text:\n",
    "        candidates.append(\"trump\")\n",
    "    return \",\".join(candidates)\n",
    "\n",
    "first[\"candidate\"] = first.apply(get_candidate,axis=1)"
   ]
  },
  {
   "cell_type": "markdown",
   "metadata": {},
   "source": [
    "Now it is time to do sentiment analysis over the data. For this I am going to use TextBlob library available inbuilt in python"
   ]
  },
  {
   "cell_type": "code",
   "execution_count": 10,
   "metadata": {},
   "outputs": [],
   "source": [
    "from textblob import TextBlob\n",
    "def get_sentiments(row):\n",
    "    senti = []\n",
    "    text = row[\"full_text\"].lower()\n",
    "    analysis = TextBlob(text)\n",
    "    if analysis.sentiment.polarity > 0.0:\n",
    "        senti.append('positive')\n",
    "    elif analysis.sentiment.polarity == 0.0:\n",
    "        senti.append('neutral')\n",
    "    else:\n",
    "        senti.append('negative')\n",
    "    return \",\".join(senti)\n",
    "\n",
    "first[\"senti\"] = first.apply(get_sentiments,axis=1)"
   ]
  },
  {
   "cell_type": "code",
   "execution_count": 11,
   "metadata": {},
   "outputs": [
    {
     "data": {
      "text/html": [
       "<div>\n",
       "<style scoped>\n",
       "    .dataframe tbody tr th:only-of-type {\n",
       "        vertical-align: middle;\n",
       "    }\n",
       "\n",
       "    .dataframe tbody tr th {\n",
       "        vertical-align: top;\n",
       "    }\n",
       "\n",
       "    .dataframe thead th {\n",
       "        text-align: right;\n",
       "    }\n",
       "</style>\n",
       "<table border=\"1\" class=\"dataframe\">\n",
       "  <thead>\n",
       "    <tr style=\"text-align: right;\">\n",
       "      <th></th>\n",
       "      <th>coordinates</th>\n",
       "      <th>created_at</th>\n",
       "      <th>display_text_range</th>\n",
       "      <th>favorite_count</th>\n",
       "      <th>full_text</th>\n",
       "      <th>geo</th>\n",
       "      <th>lang</th>\n",
       "      <th>place</th>\n",
       "      <th>retweet_count</th>\n",
       "      <th>source</th>\n",
       "      <th>location</th>\n",
       "      <th>country</th>\n",
       "      <th>candidate</th>\n",
       "      <th>senti</th>\n",
       "    </tr>\n",
       "  </thead>\n",
       "  <tbody>\n",
       "    <tr>\n",
       "      <th>0</th>\n",
       "      <td>None</td>\n",
       "      <td>2016-09-26 17:45:52</td>\n",
       "      <td>[0, 131]</td>\n",
       "      <td>0</td>\n",
       "      <td>@HillaryClinton @realDonaldTrump PLWHA would l...</td>\n",
       "      <td>None</td>\n",
       "      <td>en</td>\n",
       "      <td>{'id': 'c4095a8d389bd271', 'url': 'https://api...</td>\n",
       "      <td>0</td>\n",
       "      <td>&lt;a href=\"http://twitter.com/download/iphone\" r...</td>\n",
       "      <td>Murrieta, CA</td>\n",
       "      <td>United States</td>\n",
       "      <td>clinton,trump</td>\n",
       "      <td>neutral</td>\n",
       "    </tr>\n",
       "    <tr>\n",
       "      <th>1</th>\n",
       "      <td>None</td>\n",
       "      <td>2016-09-26 17:45:53</td>\n",
       "      <td>[0, 31]</td>\n",
       "      <td>0</td>\n",
       "      <td>This is pure gold.\\n#Debates2016 https://t.co/...</td>\n",
       "      <td>None</td>\n",
       "      <td>en</td>\n",
       "      <td>{'id': 'cb74aaf709812e0f', 'url': 'https://api...</td>\n",
       "      <td>0</td>\n",
       "      <td>&lt;a href=\"http://twitter.com/download/android\" ...</td>\n",
       "      <td>Tulsa, OK</td>\n",
       "      <td>United States</td>\n",
       "      <td></td>\n",
       "      <td>positive</td>\n",
       "    </tr>\n",
       "    <tr>\n",
       "      <th>2</th>\n",
       "      <td>None</td>\n",
       "      <td>2016-09-26 17:45:58</td>\n",
       "      <td>[0, 85]</td>\n",
       "      <td>0</td>\n",
       "      <td>.@jmartNYT But Reagan+GWB were also govs of mo...</td>\n",
       "      <td>None</td>\n",
       "      <td>en</td>\n",
       "      <td>{'id': '58d824d197abba8e', 'url': 'https://api...</td>\n",
       "      <td>0</td>\n",
       "      <td>&lt;a href=\"http://tapbots.com/tweetbot\" rel=\"nof...</td>\n",
       "      <td>Lincoln Park, Chicago</td>\n",
       "      <td>United States</td>\n",
       "      <td></td>\n",
       "      <td>positive</td>\n",
       "    </tr>\n",
       "    <tr>\n",
       "      <th>3</th>\n",
       "      <td>None</td>\n",
       "      <td>2016-09-26 17:46:10</td>\n",
       "      <td>[0, 134]</td>\n",
       "      <td>0</td>\n",
       "      <td>On @HillaryClinton - @mike_pence says \"Tonight...</td>\n",
       "      <td>None</td>\n",
       "      <td>en</td>\n",
       "      <td>{'id': 'c5d9f6b9e841e5a8', 'url': 'https://api...</td>\n",
       "      <td>3</td>\n",
       "      <td>&lt;a href=\"http://twitter.com/download/iphone\" r...</td>\n",
       "      <td>Milford, NH</td>\n",
       "      <td>United States</td>\n",
       "      <td>clinton</td>\n",
       "      <td>neutral</td>\n",
       "    </tr>\n",
       "    <tr>\n",
       "      <th>4</th>\n",
       "      <td>None</td>\n",
       "      <td>2016-09-26 17:46:11</td>\n",
       "      <td>[0, 120]</td>\n",
       "      <td>0</td>\n",
       "      <td>FixIt: As voters we need to pursue facts and p...</td>\n",
       "      <td>None</td>\n",
       "      <td>en</td>\n",
       "      <td>{'id': '01a9a39529b27f36', 'url': 'https://api...</td>\n",
       "      <td>0</td>\n",
       "      <td>&lt;a href=\"http://twitter.com/download/iphone\" r...</td>\n",
       "      <td>Manhattan, NY</td>\n",
       "      <td>United States</td>\n",
       "      <td></td>\n",
       "      <td>neutral</td>\n",
       "    </tr>\n",
       "    <tr>\n",
       "      <th>5</th>\n",
       "      <td>None</td>\n",
       "      <td>2016-09-26 17:46:14</td>\n",
       "      <td>[16, 130]</td>\n",
       "      <td>0</td>\n",
       "      <td>@HillaryClinton If you think your straight and...</td>\n",
       "      <td>None</td>\n",
       "      <td>en</td>\n",
       "      <td>{'id': '5acc3a887617d093', 'url': 'https://api...</td>\n",
       "      <td>0</td>\n",
       "      <td>&lt;a href=\"http://twitter.com\" rel=\"nofollow\"&gt;Tw...</td>\n",
       "      <td>Sarasota, FL</td>\n",
       "      <td>United States</td>\n",
       "      <td>clinton</td>\n",
       "      <td>neutral</td>\n",
       "    </tr>\n",
       "    <tr>\n",
       "      <th>6</th>\n",
       "      <td>None</td>\n",
       "      <td>2016-09-26 17:46:17</td>\n",
       "      <td>[0, 128]</td>\n",
       "      <td>2</td>\n",
       "      <td>#debatenight I can't even imagine the ratings ...</td>\n",
       "      <td>None</td>\n",
       "      <td>en</td>\n",
       "      <td>{'id': '44c12398792e903e', 'url': 'https://api...</td>\n",
       "      <td>0</td>\n",
       "      <td>&lt;a href=\"http://twitter.com/download/iphone\" r...</td>\n",
       "      <td>Westchase, FL</td>\n",
       "      <td>United States</td>\n",
       "      <td>clinton,trump</td>\n",
       "      <td>positive</td>\n",
       "    </tr>\n",
       "    <tr>\n",
       "      <th>7</th>\n",
       "      <td>None</td>\n",
       "      <td>2016-09-26 17:46:20</td>\n",
       "      <td>[0, 82]</td>\n",
       "      <td>1</td>\n",
       "      <td>Let's see who gets drunk first. #deplorable #i...</td>\n",
       "      <td>None</td>\n",
       "      <td>en</td>\n",
       "      <td>{'id': '33c99b76ba74a953', 'url': 'https://api...</td>\n",
       "      <td>0</td>\n",
       "      <td>&lt;a href=\"http://twitter.com/download/iphone\" r...</td>\n",
       "      <td>Port St John, FL</td>\n",
       "      <td>United States</td>\n",
       "      <td>clinton</td>\n",
       "      <td>negative</td>\n",
       "    </tr>\n",
       "    <tr>\n",
       "      <th>8</th>\n",
       "      <td>None</td>\n",
       "      <td>2016-09-26 17:46:27</td>\n",
       "      <td>[0, 86]</td>\n",
       "      <td>1</td>\n",
       "      <td>It's going to be dinner very shortly, then I'l...</td>\n",
       "      <td>None</td>\n",
       "      <td>en</td>\n",
       "      <td>{'id': '1c37515518593fe3', 'url': 'https://api...</td>\n",
       "      <td>0</td>\n",
       "      <td>&lt;a href=\"http://twitter.com/download/iphone\" r...</td>\n",
       "      <td>Richmond, London</td>\n",
       "      <td>United Kingdom</td>\n",
       "      <td></td>\n",
       "      <td>negative</td>\n",
       "    </tr>\n",
       "    <tr>\n",
       "      <th>9</th>\n",
       "      <td>{'type': 'Point', 'coordinates': [-73.5991668,...</td>\n",
       "      <td>2016-09-26 17:46:29</td>\n",
       "      <td>[0, 61]</td>\n",
       "      <td>0</td>\n",
       "      <td>#hofstra #debate @ Hofstra University https://...</td>\n",
       "      <td>{'type': 'Point', 'coordinates': [40.71658182,...</td>\n",
       "      <td>es</td>\n",
       "      <td>{'id': '0427846a106c0bd9', 'url': 'https://api...</td>\n",
       "      <td>0</td>\n",
       "      <td>&lt;a href=\"http://instagram.com\" rel=\"nofollow\"&gt;...</td>\n",
       "      <td>East Garden City, NY</td>\n",
       "      <td>United States</td>\n",
       "      <td></td>\n",
       "      <td>neutral</td>\n",
       "    </tr>\n",
       "  </tbody>\n",
       "</table>\n",
       "</div>"
      ],
      "text/plain": [
       "                                         coordinates          created_at  \\\n",
       "0                                               None 2016-09-26 17:45:52   \n",
       "1                                               None 2016-09-26 17:45:53   \n",
       "2                                               None 2016-09-26 17:45:58   \n",
       "3                                               None 2016-09-26 17:46:10   \n",
       "4                                               None 2016-09-26 17:46:11   \n",
       "5                                               None 2016-09-26 17:46:14   \n",
       "6                                               None 2016-09-26 17:46:17   \n",
       "7                                               None 2016-09-26 17:46:20   \n",
       "8                                               None 2016-09-26 17:46:27   \n",
       "9  {'type': 'Point', 'coordinates': [-73.5991668,... 2016-09-26 17:46:29   \n",
       "\n",
       "  display_text_range  favorite_count  \\\n",
       "0           [0, 131]               0   \n",
       "1            [0, 31]               0   \n",
       "2            [0, 85]               0   \n",
       "3           [0, 134]               0   \n",
       "4           [0, 120]               0   \n",
       "5          [16, 130]               0   \n",
       "6           [0, 128]               2   \n",
       "7            [0, 82]               1   \n",
       "8            [0, 86]               1   \n",
       "9            [0, 61]               0   \n",
       "\n",
       "                                           full_text  \\\n",
       "0  @HillaryClinton @realDonaldTrump PLWHA would l...   \n",
       "1  This is pure gold.\\n#Debates2016 https://t.co/...   \n",
       "2  .@jmartNYT But Reagan+GWB were also govs of mo...   \n",
       "3  On @HillaryClinton - @mike_pence says \"Tonight...   \n",
       "4  FixIt: As voters we need to pursue facts and p...   \n",
       "5  @HillaryClinton If you think your straight and...   \n",
       "6  #debatenight I can't even imagine the ratings ...   \n",
       "7  Let's see who gets drunk first. #deplorable #i...   \n",
       "8  It's going to be dinner very shortly, then I'l...   \n",
       "9  #hofstra #debate @ Hofstra University https://...   \n",
       "\n",
       "                                                 geo lang  \\\n",
       "0                                               None   en   \n",
       "1                                               None   en   \n",
       "2                                               None   en   \n",
       "3                                               None   en   \n",
       "4                                               None   en   \n",
       "5                                               None   en   \n",
       "6                                               None   en   \n",
       "7                                               None   en   \n",
       "8                                               None   en   \n",
       "9  {'type': 'Point', 'coordinates': [40.71658182,...   es   \n",
       "\n",
       "                                               place  retweet_count  \\\n",
       "0  {'id': 'c4095a8d389bd271', 'url': 'https://api...              0   \n",
       "1  {'id': 'cb74aaf709812e0f', 'url': 'https://api...              0   \n",
       "2  {'id': '58d824d197abba8e', 'url': 'https://api...              0   \n",
       "3  {'id': 'c5d9f6b9e841e5a8', 'url': 'https://api...              3   \n",
       "4  {'id': '01a9a39529b27f36', 'url': 'https://api...              0   \n",
       "5  {'id': '5acc3a887617d093', 'url': 'https://api...              0   \n",
       "6  {'id': '44c12398792e903e', 'url': 'https://api...              0   \n",
       "7  {'id': '33c99b76ba74a953', 'url': 'https://api...              0   \n",
       "8  {'id': '1c37515518593fe3', 'url': 'https://api...              0   \n",
       "9  {'id': '0427846a106c0bd9', 'url': 'https://api...              0   \n",
       "\n",
       "                                              source               location  \\\n",
       "0  <a href=\"http://twitter.com/download/iphone\" r...           Murrieta, CA   \n",
       "1  <a href=\"http://twitter.com/download/android\" ...              Tulsa, OK   \n",
       "2  <a href=\"http://tapbots.com/tweetbot\" rel=\"nof...  Lincoln Park, Chicago   \n",
       "3  <a href=\"http://twitter.com/download/iphone\" r...            Milford, NH   \n",
       "4  <a href=\"http://twitter.com/download/iphone\" r...          Manhattan, NY   \n",
       "5  <a href=\"http://twitter.com\" rel=\"nofollow\">Tw...           Sarasota, FL   \n",
       "6  <a href=\"http://twitter.com/download/iphone\" r...          Westchase, FL   \n",
       "7  <a href=\"http://twitter.com/download/iphone\" r...       Port St John, FL   \n",
       "8  <a href=\"http://twitter.com/download/iphone\" r...       Richmond, London   \n",
       "9  <a href=\"http://instagram.com\" rel=\"nofollow\">...   East Garden City, NY   \n",
       "\n",
       "          country      candidate     senti  \n",
       "0   United States  clinton,trump   neutral  \n",
       "1   United States                 positive  \n",
       "2   United States                 positive  \n",
       "3   United States        clinton   neutral  \n",
       "4   United States                  neutral  \n",
       "5   United States        clinton   neutral  \n",
       "6   United States  clinton,trump  positive  \n",
       "7   United States        clinton  negative  \n",
       "8  United Kingdom                 negative  \n",
       "9   United States                  neutral  "
      ]
     },
     "execution_count": 11,
     "metadata": {},
     "output_type": "execute_result"
    }
   ],
   "source": [
    "first.head(10)"
   ]
  },
  {
   "cell_type": "markdown",
   "metadata": {},
   "source": [
    "Finally, I am going to add another column for \"states\"."
   ]
  },
  {
   "cell_type": "code",
   "execution_count": 12,
   "metadata": {},
   "outputs": [],
   "source": [
    "#To clean the \"states\" file according to our need. At the end of this processing it will only have the state name and its abbrevation.\n",
    "dfs = pd.read_csv('states.csv')\n",
    "dfs = dfs.drop(['States of the United States','Unnamed: 3','Unnamed: 4','Unnamed: 5','Unnamed: 6','Unnamed: 7','Unnamed: 8','Unnamed: 9'],axis=1)\n",
    "dfs = dfs.drop([0],axis=0)\n",
    "dfs = dfs.drop([1],axis=0)\n",
    "dfs = dfs.reset_index(drop=True)\n",
    "dfs.columns = ['State','Abbr']"
   ]
  },
  {
   "cell_type": "code",
   "execution_count": 13,
   "metadata": {},
   "outputs": [
    {
     "data": {
      "text/html": [
       "<div>\n",
       "<style scoped>\n",
       "    .dataframe tbody tr th:only-of-type {\n",
       "        vertical-align: middle;\n",
       "    }\n",
       "\n",
       "    .dataframe tbody tr th {\n",
       "        vertical-align: top;\n",
       "    }\n",
       "\n",
       "    .dataframe thead th {\n",
       "        text-align: right;\n",
       "    }\n",
       "</style>\n",
       "<table border=\"1\" class=\"dataframe\">\n",
       "  <thead>\n",
       "    <tr style=\"text-align: right;\">\n",
       "      <th></th>\n",
       "      <th>State</th>\n",
       "      <th>Abbr</th>\n",
       "    </tr>\n",
       "  </thead>\n",
       "  <tbody>\n",
       "    <tr>\n",
       "      <th>0</th>\n",
       "      <td>Alabama</td>\n",
       "      <td>AL</td>\n",
       "    </tr>\n",
       "    <tr>\n",
       "      <th>1</th>\n",
       "      <td>Alaska</td>\n",
       "      <td>AK</td>\n",
       "    </tr>\n",
       "    <tr>\n",
       "      <th>2</th>\n",
       "      <td>Arizona</td>\n",
       "      <td>AZ</td>\n",
       "    </tr>\n",
       "    <tr>\n",
       "      <th>3</th>\n",
       "      <td>Arkansas</td>\n",
       "      <td>AR</td>\n",
       "    </tr>\n",
       "    <tr>\n",
       "      <th>4</th>\n",
       "      <td>California</td>\n",
       "      <td>CA</td>\n",
       "    </tr>\n",
       "    <tr>\n",
       "      <th>5</th>\n",
       "      <td>Colorado</td>\n",
       "      <td>CO</td>\n",
       "    </tr>\n",
       "    <tr>\n",
       "      <th>6</th>\n",
       "      <td>Connecticut</td>\n",
       "      <td>CT</td>\n",
       "    </tr>\n",
       "    <tr>\n",
       "      <th>7</th>\n",
       "      <td>Delaware</td>\n",
       "      <td>DE</td>\n",
       "    </tr>\n",
       "    <tr>\n",
       "      <th>8</th>\n",
       "      <td>Florida</td>\n",
       "      <td>FL</td>\n",
       "    </tr>\n",
       "    <tr>\n",
       "      <th>9</th>\n",
       "      <td>Georgia</td>\n",
       "      <td>GA</td>\n",
       "    </tr>\n",
       "  </tbody>\n",
       "</table>\n",
       "</div>"
      ],
      "text/plain": [
       "         State Abbr\n",
       "0      Alabama   AL\n",
       "1       Alaska   AK\n",
       "2      Arizona   AZ\n",
       "3     Arkansas   AR\n",
       "4   California   CA\n",
       "5     Colorado   CO\n",
       "6  Connecticut   CT\n",
       "7     Delaware   DE\n",
       "8      Florida   FL\n",
       "9      Georgia   GA"
      ]
     },
     "execution_count": 13,
     "metadata": {},
     "output_type": "execute_result"
    }
   ],
   "source": [
    "dfs.head(10)"
   ]
  },
  {
   "cell_type": "code",
   "execution_count": 14,
   "metadata": {},
   "outputs": [],
   "source": [
    "def get_states (row):\n",
    "    state = []\n",
    "    if row['country'] == 'United States':\n",
    "        city = row['location']\n",
    "        sf = city[-2:]\n",
    "        for i in range (0,len(dfs.State)):\n",
    "            if sf == dfs.Abbr[i]:\n",
    "                state.append(dfs.State[i])\n",
    "    return \",\".join(state)\n",
    "\n",
    "\n",
    "first['state'] = first.apply(get_states,axis=1)\n"
   ]
  },
  {
   "cell_type": "code",
   "execution_count": 16,
   "metadata": {},
   "outputs": [],
   "source": [
    "##Dropping all the tweets which are not tweeted from US\n",
    "for i in range (0,len(first.full_text)):\n",
    "    if(first.country[i]!='United States'):\n",
    "        first = first.drop([i],axis=0) \n",
    "first = first.reset_index(drop=True)"
   ]
  },
  {
   "cell_type": "code",
   "execution_count": 19,
   "metadata": {},
   "outputs": [],
   "source": [
    "##Dropping all the rows which donot have a value in \"state\" column\n",
    "for i in range(0,len(first.full_text)):\n",
    "    if(first.state[i]==''):\n",
    "        first = first.drop([i],axis=0)"
   ]
  },
  {
   "cell_type": "code",
   "execution_count": 21,
   "metadata": {},
   "outputs": [
    {
     "data": {
      "text/plain": [
       "(3430, 15)"
      ]
     },
     "execution_count": 21,
     "metadata": {},
     "output_type": "execute_result"
    }
   ],
   "source": [
    "first.shape"
   ]
  },
  {
   "cell_type": "markdown",
   "metadata": {},
   "source": [
    "After Completeing all this process the final first debate dataset had 3430 rows and 15 columns. "
   ]
  },
  {
   "cell_type": "markdown",
   "metadata": {},
   "source": [
    "Now I am going to write this in a final first_debate file. This file will be used for further analysis"
   ]
  },
  {
   "cell_type": "code",
   "execution_count": 22,
   "metadata": {},
   "outputs": [],
   "source": [
    "first.to_json('first-debate_final.json',orient='records',lines=True)"
   ]
  },
  {
   "cell_type": "markdown",
   "metadata": {},
   "source": [
    "Using the same way,the other two dataset was also cleaned and stored in 'second-deabte_final' and 'third_debate-final' json files.  "
   ]
  },
  {
   "cell_type": "markdown",
   "metadata": {},
   "source": [
    "# Analysis of the sentiments between Donald Trump and Hillary Clinton"
   ]
  },
  {
   "cell_type": "code",
   "execution_count": 1,
   "metadata": {},
   "outputs": [],
   "source": [
    "import pandas as pd\n",
    "first_debate = pd.read_json('first-debate_final.json',lines=True)\n",
    "second_debate = pd.read_json('second-debate_final.json',lines=True)\n",
    "third_debate = pd.read_json('third-debate_final.json',lines=True)"
   ]
  },
  {
   "cell_type": "code",
   "execution_count": 2,
   "metadata": {},
   "outputs": [],
   "source": [
    "tweets1 = first_debate.groupby(['senti','candidate']).count()['full_text']\n",
    "tweets2 = second_debate.groupby(['senti','candidate']).count()['full_text']\n",
    "tweets3 = third_debate.groupby(['senti','candidate']).count()['full_text']\n"
   ]
  },
  {
   "cell_type": "code",
   "execution_count": 17,
   "metadata": {},
   "outputs": [],
   "source": [
    "##To calculate total count for each sentiment\n",
    "def count_sentiment(tweets):\n",
    "    l = []\n",
    "    l.insert(0,tweets.loc[('positive','clinton')]+tweets.loc[('positive','trump')])\n",
    "    l.insert(1,tweets.loc[('negative','clinton')]+tweets.loc[('negative','trump')])\n",
    "    l.insert(2,tweets.loc[('neutral','clinton')]+tweets.loc[('neutral','trump')])\n",
    "    return l;"
   ]
  },
  {
   "cell_type": "code",
   "execution_count": 18,
   "metadata": {},
   "outputs": [],
   "source": [
    "first_debate_count = []\n",
    "first_debate_count= count_sentiment(tweets1)\n",
    "second_debate_count = []\n",
    "second_debate_count = count_sentiment(tweets2)\n",
    "third_debate_count = []\n",
    "third_debate_count= count_sentiment(tweets3)"
   ]
  },
  {
   "cell_type": "code",
   "execution_count": 19,
   "metadata": {},
   "outputs": [],
   "source": [
    "from tabulate import tabulate\n",
    "def display_table(tweets):\n",
    "    col_lables = ['Sentiment','Clinton','Trump']\n",
    "    table_vals =[ ['Positive',tweets.loc[('positive','clinton')],tweets.loc[('positive','trump')]],\n",
    "                 ['Neutral',tweets1.loc[('neutral','clinton')],tweets.loc[('neutral','trump')]],\n",
    "                 ['Negative',tweets.loc[('negative','clinton')],tweets.loc[('negative','trump')]]]\n",
    "    print(tabulate(table_vals,headers=col_lables,tablefmt='grid'))"
   ]
  },
  {
   "cell_type": "code",
   "execution_count": 20,
   "metadata": {},
   "outputs": [
    {
     "name": "stdout",
     "output_type": "stream",
     "text": [
      "+-------------+-----------+---------+\n",
      "| Sentiment   |   Clinton |   Trump |\n",
      "+=============+===========+=========+\n",
      "| Positive    |       207 |     164 |\n",
      "+-------------+-----------+---------+\n",
      "| Neutral     |       409 |     229 |\n",
      "+-------------+-----------+---------+\n",
      "| Negative    |        88 |      79 |\n",
      "+-------------+-----------+---------+\n"
     ]
    }
   ],
   "source": [
    "display_table(tweets1)"
   ]
  },
  {
   "cell_type": "code",
   "execution_count": 21,
   "metadata": {},
   "outputs": [
    {
     "name": "stdout",
     "output_type": "stream",
     "text": [
      "+-------------+-----------+---------+\n",
      "| Sentiment   |   Clinton |   Trump |\n",
      "+=============+===========+=========+\n",
      "| Positive    |       236 |     651 |\n",
      "+-------------+-----------+---------+\n",
      "| Neutral     |       409 |    1166 |\n",
      "+-------------+-----------+---------+\n",
      "| Negative    |       205 |     541 |\n",
      "+-------------+-----------+---------+\n"
     ]
    }
   ],
   "source": [
    "display_table(tweets2)"
   ]
  },
  {
   "cell_type": "code",
   "execution_count": 22,
   "metadata": {},
   "outputs": [
    {
     "name": "stdout",
     "output_type": "stream",
     "text": [
      "+-------------+-----------+---------+\n",
      "| Sentiment   |   Clinton |   Trump |\n",
      "+=============+===========+=========+\n",
      "| Positive    |       153 |     386 |\n",
      "+-------------+-----------+---------+\n",
      "| Neutral     |       409 |     671 |\n",
      "+-------------+-----------+---------+\n",
      "| Negative    |       124 |     213 |\n",
      "+-------------+-----------+---------+\n"
     ]
    }
   ],
   "source": [
    "display_table(tweets3)"
   ]
  },
  {
   "cell_type": "code",
   "execution_count": 23,
   "metadata": {},
   "outputs": [],
   "source": [
    "def calculate_plot_values(x,j):\n",
    "    y = ['clinton','trump']\n",
    "    l = []\n",
    "    for i in y:\n",
    "        count = tweets1.loc[(x,i)]/first_debate_count[j]\n",
    "        l.append(count)\n",
    "        count = tweets2.loc[(x,i)]/second_debate_count[j]\n",
    "        l.append(count)\n",
    "        count = tweets3.loc[(x,i)]/third_debate_count[j]\n",
    "        l.append(count)\n",
    "        \n",
    "    return l;"
   ]
  },
  {
   "cell_type": "code",
   "execution_count": 24,
   "metadata": {},
   "outputs": [],
   "source": [
    "def pie_chart(g1,g2,g3):\n",
    "    colors = ['red', 'blue']\n",
    "    fig = plt.figure()\n",
    "    list_c =['clinton','trump']\n",
    "    ax1 = fig.add_axes([1, 0, 1.5, .5], aspect=1)\n",
    "    ax1.pie(g1, labels=list_c, radius = 1.2,startangle = 140,colors = colors, autopct = '%1.1f%%')\n",
    "    ax2 = fig.add_axes([1.5,0, 1.5, .5], aspect=1)\n",
    "    ax2.pie(g2, labels=list_c, radius = 1.2, startangle = 140,colors = colors, autopct = '%1.1f%%')\n",
    "    ax3 = fig.add_axes([1.5,0,2.5,.5],aspect = 1)\n",
    "    ax3.pie(g3,labels=list_c,radius = 1.2, startangle = 140,colors = colors, autopct = '%1.1f%%')\n",
    "    "
   ]
  },
  {
   "cell_type": "code",
   "execution_count": 25,
   "metadata": {},
   "outputs": [
    {
     "name": "stdout",
     "output_type": "stream",
     "text": [
      "The percentage of positive tweets for each candidate for all 3 debates\n"
     ]
    },
    {
     "data": {
      "image/png": "[encoded data removed]",
      "text/plain": [
       "<Figure size 432x288 with 3 Axes>"
      ]
     },
     "metadata": {},
     "output_type": "display_data"
    }
   ],
   "source": [
    "##To calculate percentage of tweets for each sentiment\n",
    "import matplotlib.pyplot as plt\n",
    "g = calculate_plot_values('positive',2)\n",
    "g_f = [g[0]*100,g[3]*100]\n",
    "g_s = [g[1]*100,g[4]*100]\n",
    "g_t = [g[2]*100,g[5]*100]\n",
    "pie_chart(g_f,g_s,g_t)\n",
    "print(\"The percentage of positive tweets for each candidate for all 3 debates\")\n",
    "plt.show()"
   ]
  },
  {
   "cell_type": "code",
   "execution_count": 26,
   "metadata": {},
   "outputs": [
    {
     "name": "stdout",
     "output_type": "stream",
     "text": [
      "The percentage of negative tweets for each candidate for all 3 debates\n"
     ]
    },
    {
     "data": {
      "image/png": "[encoded data removed]",
      "text/plain": [
       "<Figure size 432x288 with 3 Axes>"
      ]
     },
     "metadata": {},
     "output_type": "display_data"
    }
   ],
   "source": [
    "g = calculate_plot_values('negative',1)\n",
    "g_f = [g[0]*100,g[3]*100]\n",
    "g_s = [g[1]*100,g[4]*100]\n",
    "g_t = [g[2]*100,g[5]*100]\n",
    "pie_chart(g_f,g_s,g_t)\n",
    "print(\"The percentage of negative tweets for each candidate for all 3 debates\")\n",
    "plt.show()"
   ]
  },
  {
   "cell_type": "code",
   "execution_count": 27,
   "metadata": {},
   "outputs": [
    {
     "name": "stdout",
     "output_type": "stream",
     "text": [
      "The percentage of neutral tweets for each candidate for all 3 debates\n"
     ]
    },
    {
     "data": {
      "image/png": "[encoded data removed]",
      "text/plain": [
       "<Figure size 432x288 with 3 Axes>"
      ]
     },
     "metadata": {},
     "output_type": "display_data"
    }
   ],
   "source": [
    "##Pie Chart for neutral tweets \n",
    "g = calculate_plot_values('neutral',2)\n",
    "g_f = [g[0]*100,g[3]*100]\n",
    "g_s = [g[1]*100,g[4]*100]\n",
    "g_t = [g[2]*100,g[5]*100]\n",
    "pie_chart(g_f,g_s,g_t)\n",
    "print(\"The percentage of neutral tweets for each candidate for all 3 debates\")\n",
    "plt.show()"
   ]
  },
  {
   "cell_type": "markdown",
   "metadata": {},
   "source": [
    "From  the above pie charts I can conclude the following observations:\n",
    "    1. The number of positive tweets increased from 44% to 71.6% for Donald Trump through the 3 debates. By the end of third debate he had a clear majority of positive tweets \n",
    "    2. The number of negative tweets sore high for Donald Trump by the second debate, but it fell by 9% in third debate. Even though it was 63% in the end, the percent has dropped by a significant amount then the second debate.\n",
    "    3. The percent of neutral tweets shows a complete positive slope. By the end of third debate Donald Trump had 71.2% of the neutral tweets"
   ]
  },
  {
   "cell_type": "code",
   "execution_count": 28,
   "metadata": {},
   "outputs": [
    {
     "name": "stdout",
     "output_type": "stream",
     "text": [
      "Total Analysis - positive, negative, neutral\n"
     ]
    },
    {
     "data": {
      "image/png": "[encoded data removed]",
      "text/plain": [
       "<Figure size 432x288 with 3 Axes>"
      ]
     },
     "metadata": {},
     "output_type": "display_data"
    }
   ],
   "source": [
    "##The overall analysis for each candidate\n",
    "candidate = ['clinton','trump']\n",
    "g = []\n",
    "for y in candidate:\n",
    "        count = tweets1.loc[('positive',y)]+tweets2.loc[('positive',y)]+tweets3.loc[('positive',y)]/(first_debate_count[0]+second_debate_count[0]+third_debate_count[0])\n",
    "        g.append(count) \n",
    "        count = tweets1.loc[('negative',y)]+tweets2.loc[('negative',y)]+tweets3.loc[('negative',y)]/(first_debate_count[1]+second_debate_count[1]+third_debate_count[1])\n",
    "        g.append(count)\n",
    "        count = tweets1.loc[('neutral',y)]+tweets2.loc[('neutral',y)]+tweets3.loc[('neutral',y)]/(first_debate_count[2]+second_debate_count[2]+third_debate_count[2])\n",
    "        g.append(count)\n",
    "g_f = [g[0]*100,g[3]*100]\n",
    "g_s = [g[1]*100,g[4]*100]\n",
    "g_t = [g[2]*100,g[5]*100]\n",
    "pie_chart(g_f,g_s,g_t)\n",
    "print(\"Total Analysis - positive, negative, neutral\")\n",
    "plt.show()"
   ]
  },
  {
   "cell_type": "markdown",
   "metadata": {},
   "source": [
    "Overall Analysis in this section is:\n",
    "    1. Donald Trump held 64.8% of total positive tweets, 67.9% of total negative tweets and 59.0% of total neutral tweets in all 3 debates.\n",
    "    2. His rivalary, Hillary Clinton held 35.2% of total positive tweets, 32.1% of total negative tweets and 41.0% of total neutral tweets.\n",
    "\n",
    "Donal Trump has high percentage of negative tweets, but taken into the consideration of the percentage of positive and neutral tweets, he has a winning margin over Hillary Clinton. "
   ]
  },
  {
   "cell_type": "markdown",
   "metadata": {},
   "source": [
    "# Analysis part 2 "
   ]
  },
  {
   "cell_type": "markdown",
   "metadata": {},
   "source": [
    "In this section, I am going to analyze based on region wise tweets for the candidates"
   ]
  },
  {
   "cell_type": "code",
   "execution_count": 3,
   "metadata": {},
   "outputs": [],
   "source": [
    "tweets1_A = first_debate.groupby(['senti','candidate','state']).count()['full_text']\n",
    "tweets2_A = second_debate.groupby(['senti','candidate','state']).count()['full_text']\n",
    "tweets3_A = third_debate.groupby(['senti','candidate','state']).count()['full_text']"
   ]
  },
  {
   "cell_type": "code",
   "execution_count": 4,
   "metadata": {},
   "outputs": [],
   "source": [
    "def calculate_per_state(z):\n",
    "    sentiment = ['positive','negative','neutral']\n",
    "    candidate = ['clinton','trump']\n",
    "    l = []\n",
    "    for y in candidate:\n",
    "        for x in sentiment:\n",
    "            count = tweets1_A[x][y][z]+tweets2_A[x][y][z]+tweets3_A[x][y][z]\n",
    "            l.append(count)\n",
    "    return l\n",
    "california = calculate_per_state('California')\n",
    "new_york = calculate_per_state('New York')\n",
    "florida = calculate_per_state('Florida')\n",
    "texas = calculate_per_state('Texas')"
   ]
  },
  {
   "cell_type": "code",
   "execution_count": 5,
   "metadata": {},
   "outputs": [],
   "source": [
    "def calculate_percentage(l):\n",
    "    total_count=[]\n",
    "    total_count.append(l[0] + l[3])\n",
    "    total_count.append(l[1] + l[4])\n",
    "    total_count.append(l[2] + l[5])\n",
    "    result=[]\n",
    "    for i in range(0,6):\n",
    "        y = (l[i]/total_count[i%3])*100\n",
    "        result.append(y)\n",
    "    return result;\n",
    "california_percentage = calculate_percentage(california)\n",
    "new_york_percentage = calculate_percentage(new_york)\n",
    "florida_percentage = calculate_percentage(florida)\n",
    "texas_percentage = calculate_percentage(texas)"
   ]
  },
  {
   "cell_type": "code",
   "execution_count": 6,
   "metadata": {},
   "outputs": [],
   "source": [
    "from tabulate import tabulate\n",
    "def display_table(l):\n",
    "    col_lables = ['Sentiment','Clinton','Trump']\n",
    "    table_vals =[ ['Positive',l[0],l[3]],\n",
    "                 ['Neutral',l[2], l[5]],\n",
    "                 ['Negative',l[1],l[4]]]\n",
    "    print(tabulate(table_vals,headers=col_lables,tablefmt='grid'))"
   ]
  },
  {
   "cell_type": "code",
   "execution_count": 7,
   "metadata": {},
   "outputs": [
    {
     "name": "stdout",
     "output_type": "stream",
     "text": [
      "+-------------+-----------+---------+\n",
      "| Sentiment   |   Clinton |   Trump |\n",
      "+=============+===========+=========+\n",
      "| Positive    |       102 |     172 |\n",
      "+-------------+-----------+---------+\n",
      "| Neutral     |       203 |     323 |\n",
      "+-------------+-----------+---------+\n",
      "| Negative    |        59 |     128 |\n",
      "+-------------+-----------+---------+\n"
     ]
    }
   ],
   "source": [
    "display_table(california)"
   ]
  },
  {
   "cell_type": "code",
   "execution_count": 8,
   "metadata": {},
   "outputs": [
    {
     "name": "stdout",
     "output_type": "stream",
     "text": [
      "+-------------+-----------+---------+\n",
      "| Sentiment   |   Clinton |   Trump |\n",
      "+=============+===========+=========+\n",
      "| Positive    |        67 |     112 |\n",
      "+-------------+-----------+---------+\n",
      "| Neutral     |        92 |     200 |\n",
      "+-------------+-----------+---------+\n",
      "| Negative    |        43 |      83 |\n",
      "+-------------+-----------+---------+\n"
     ]
    }
   ],
   "source": [
    "display_table(new_york)"
   ]
  },
  {
   "cell_type": "code",
   "execution_count": 9,
   "metadata": {},
   "outputs": [
    {
     "name": "stdout",
     "output_type": "stream",
     "text": [
      "+-------------+-----------+---------+\n",
      "| Sentiment   |   Clinton |   Trump |\n",
      "+=============+===========+=========+\n",
      "| Positive    |        78 |     120 |\n",
      "+-------------+-----------+---------+\n",
      "| Neutral     |       135 |     175 |\n",
      "+-------------+-----------+---------+\n",
      "| Negative    |        52 |      76 |\n",
      "+-------------+-----------+---------+\n"
     ]
    }
   ],
   "source": [
    "display_table(florida)"
   ]
  },
  {
   "cell_type": "code",
   "execution_count": 10,
   "metadata": {},
   "outputs": [
    {
     "name": "stdout",
     "output_type": "stream",
     "text": [
      "+-------------+-----------+---------+\n",
      "| Sentiment   |   Clinton |   Trump |\n",
      "+=============+===========+=========+\n",
      "| Positive    |        34 |     103 |\n",
      "+-------------+-----------+---------+\n",
      "| Neutral     |        99 |     230 |\n",
      "+-------------+-----------+---------+\n",
      "| Negative    |        34 |      76 |\n",
      "+-------------+-----------+---------+\n"
     ]
    }
   ],
   "source": [
    "display_table(texas)"
   ]
  },
  {
   "cell_type": "markdown",
   "metadata": {},
   "source": [
    "State wise Conclusion:\n",
    "    1. California :\n",
    "            Real result: California was won by the Democrats, that is Hillary Clinton\n",
    "            According to our analysis: positive percent - 37 %\n",
    "                                       Neutral percent - 38 %\n",
    "                                       Negative percent - 30 %\n",
    "            Even though positive and neutral tweets for Hillary Clinton was less than 40%, the negative tweets were also 30% of the total negative tweets thus giving Hillary a margin support over Republican candidate Donald Trump.\n",
    "            \n",
    "    2. Florida:\n",
    "            Real result : Florida was won by the Republicans, that is Donald Trump\n",
    "            According to our analysis: positive percent - 60 %\n",
    "                                       Neutral percent - 56 %\n",
    "                                       Negative percent - 69 %\n",
    "            Here, the negative percent is nearly 70%, but yet Donald Trump had a clear majority in positive and negative tweets.Therfore, here Donald Trump did have a majority support.\n",
    "            \n",
    "    \n",
    "    3. New York: \n",
    "            Real result : The state of New York was won by Hillary Clinton.\n",
    "            According to our analysis: postitve % - 37 %\n",
    "                                       Neutral  % - 31 %\n",
    "                                       Negative % - 34 %\n",
    "           This is similar to the trend followed by in the state of California. \n",
    "    \n",
    "    4. Texas: \n",
    "           Real result : This state was secured by Donald Trump.\n",
    "           According to our analysis: positive % - 75 %\n",
    "                                      Neutral % - 69 %\n",
    "                                      Negative % - 69 %\n",
    "           This is again very similar to the state of Florida. "
   ]
  },
  {
   "cell_type": "markdown",
   "metadata": {},
   "source": [
    "From tha above analysis, I can conclude that, Donald Trump recieved atleast 60% of positve and neutral tweets when compared to Hillary Clinton. At the same time, he recieved 70% negative tweets throughout. This shows, he had a majority of people tweeting positive and neutral tweets on him then Hillary, which obviously reveals that he was gainig popularity among the citizens on USA. "
   ]
  }
 ],
 "metadata": {
  "kernelspec": {
   "display_name": "Python 3",
   "language": "python",
   "name": "python3"
  },
  "language_info": {
   "codemirror_mode": {
    "name": "ipython",
    "version": 3
   },
   "file_extension": ".py",
   "mimetype": "text/x-python",
   "name": "python",
   "nbconvert_exporter": "python",
   "pygments_lexer": "ipython3",
   "version": "3.7.3"
  }
 },
 "nbformat": 4,
 "nbformat_minor": 2
}
